{
 "cells": [
  {
   "cell_type": "code",
   "execution_count": 9,
   "metadata": {},
   "outputs": [
    {
     "name": "stdout",
     "output_type": "stream",
     "text": [
      "Total no. of rows: 2999\n"
     ]
    }
   ],
   "source": [
    "import csv\n",
    "import math\n",
    "filename = \"spambasetrain.csv\"\n",
    "  \n",
    "# initializing the titles and rows list \n",
    "#fields = [] \n",
    "rows = [] \n",
    "  \n",
    "# reading csv file \n",
    "with open(filename, 'r') as csvfile: \n",
    "    # creating a csv reader object \n",
    "    csvreader = csv.reader(csvfile) \n",
    "      \n",
    "    # extracting field names through first row \n",
    "   # fields = csvreader.next() \n",
    "  \n",
    "    # extracting each data row one by one \n",
    "    for row in csvreader:\n",
    "        l=[]\n",
    "        for i in row:\n",
    "            l.append(float(i))\n",
    "        rows.append((l)) \n",
    "  \n",
    "    # get total number of rows \n",
    "    print(\"Total no. of rows: %d\"%(csvreader.line_num)) \n",
    "  \n",
    "\n",
    "list0=[]\n",
    "list1=[]\n",
    "\n",
    "for row in rows:\n",
    "    if row[9]==0:\n",
    "        list0.append(row)\n",
    "    else:\n",
    "        list1.append(row)\n",
    "pof0=len(list0)/len(rows)\n",
    "pof1=len(list1)/len(rows)"
   ]
  },
  {
   "cell_type": "code",
   "execution_count": 10,
   "metadata": {},
   "outputs": [
    {
     "name": "stdout",
     "output_type": "stream",
     "text": [
      "9\n",
      "[0.048425863991081425, 0.1574866220735784, 0.016959866220735784, 0.11071293199554069, 0.011502787068004451, 0.025892419175027874, 2.376589743589742, 18.182274247491637, 164.1432552954292]\n",
      "[0.08830560325706197, 0.07017977477910134, 0.004845352543428883, 0.4175878746012103, 0.0040801330095175435, 0.08926887910591581, 37.447270639180786, 1915.2668133413704, 144134.16853507495]\n"
     ]
    }
   ],
   "source": [
    "\n",
    "N0=len(list0)\n",
    "\n",
    "\n",
    "listmean0=[0,0,0,0,0,0,0,0,0]\n",
    "mean0=0 \n",
    "for row in list0:\n",
    "\n",
    "    for col in range(0,9):\n",
    "        listmean0[col]+=row[col]\n",
    "\n",
    "print(len(listmean0))\n",
    "for r in range(0,9):\n",
    "    listmean0[r]=listmean0[r]/len(list0)\n",
    "    \n",
    "\n",
    "print(listmean0)\n",
    "\n",
    "var0=0\n",
    "varlist0=[0,0,0,0,0,0,0,0,0]\n",
    "for row in list0:\n",
    "\n",
    "    for col in range(0,9):\n",
    "        varlist0[col]+=((row[col]-listmean0[col])**2)\n",
    "\n",
    "for r in range(0,9):\n",
    "    varlist0[r]=varlist0[r]/(len(list0)-1)\n",
    "\n",
    "print(varlist0)\n",
    "\n",
    "\n"
   ]
  },
  {
   "cell_type": "code",
   "execution_count": 11,
   "metadata": {},
   "outputs": [
    {
     "name": "stdout",
     "output_type": "stream",
     "text": [
      "[0.020247302904564318, 0.10343900414937773, 0.007847302904564315, 0.49166224066390096, 0.1731510373443983, 0.08490124481327807, 9.496346887966812, 97.2091286307054, 453.5128630705394]\n",
      "[0.0075422809831681, 0.03214333120166527, 0.0024160746708758066, 0.5477920976178997, 0.12997566487641316, 0.5272832767841686, 2965.9844858446845, 36369.99111261216, 614182.1204739377]\n"
     ]
    }
   ],
   "source": [
    "N0=len(list1)\n",
    "\n",
    "\n",
    "listmean1=[0,0,0,0,0,0,0,0,0]\n",
    "\n",
    "mean1=0 \n",
    "for row in list1:\n",
    "\n",
    "    for col in range(0,9):\n",
    "        listmean1[col]+=row[col]\n",
    "\n",
    "\n",
    "for r in range(0,len(listmean1)):\n",
    "    listmean1[r]=listmean1[r]/len(list1)\n",
    "    \n",
    "\n",
    "print(listmean1)\n",
    "\n",
    "var1=0\n",
    "varlist1=[0,0,0,0,0,0,0,0,0]\n",
    "for row in list1:\n",
    "\n",
    "    for col in range(0,9):\n",
    "        varlist1[col]+=(row[col]-listmean1[col])**2\n",
    "\n",
    "for r in range(0,len(listmean1)):\n",
    "    varlist1[r]=varlist1[r]/(len(list1)-1)\n",
    "\n",
    "print(varlist1)\n"
   ]
  },
  {
   "cell_type": "code",
   "execution_count": 12,
   "metadata": {},
   "outputs": [
    {
     "name": "stdout",
     "output_type": "stream",
     "text": [
      "Total no. of rows: 200\n"
     ]
    }
   ],
   "source": [
    "import csv\n",
    "filename = \"spambasetest.csv\"\n",
    "  \n",
    "# initializing the titles and rows list \n",
    "#fields = [] \n",
    "testrows = [] \n",
    "  \n",
    "# reading csv file \n",
    "with open(filename, 'r') as csvfile: \n",
    "    # creating a csv reader object \n",
    "    csvreader = csv.reader(csvfile) \n",
    "      \n",
    "    # extracting field names through first row \n",
    "   # fields = csvreader.next() \n",
    "  \n",
    "    # extracting each data row one by one \n",
    "    for row in csvreader:\n",
    "        l=[]\n",
    "        for i in row:\n",
    "            l.append(float(i))\n",
    "        testrows.append((l)) \n",
    "  \n",
    "    # get total number of rows \n",
    "    print(\"Total no. of rows: %d\"%(csvreader.line_num)) "
   ]
  },
  {
   "cell_type": "code",
   "execution_count": 13,
   "metadata": {},
   "outputs": [],
   "source": [
    "#resul=testrows[:]\n",
    "result=[]\n",
    "for row in testrows:\n",
    "    pdflist0=[0,0,0,0,0,0,0,0,0]\n",
    "    pdflist1=[0,0,0,0,0,0,0,0,0]\n",
    "    RR0=0\n",
    "    RR1=0\n",
    "    for col in range(0,9):\n",
    "        pdflist0[col]=(1/(math.sqrt(2*3.14*varlist0[col])))*(math.exp((-(row[col]-listmean0[col])**2)/(2*varlist0[col])))\n",
    "        pdflist1[col]=(1/(math.sqrt(2*3.14*varlist1[col])))*(math.exp((-(row[col]-listmean1[col])**2)/(2*varlist1[col])))\n",
    "    RR0= math.log(pof0)\n",
    "    RR1= math.log(pof1)\n",
    "    \n",
    "    for col in range(0,9):\n",
    "        RR0+=math.log(pdflist0[col])\n",
    "        RR1+=math.log(pdflist1[col])\n",
    "         \n",
    "        \n",
    "    if(RR0>RR1):\n",
    "        result.append(0)\n",
    "    else:\n",
    "        result.append(1)\n",
    "            \n",
    "\n"
   ]
  },
  {
   "cell_type": "code",
   "execution_count": 14,
   "metadata": {},
   "outputs": [
    {
     "name": "stdout",
     "output_type": "stream",
     "text": [
      "correct = 160\n",
      "uncorrect = 40\n"
     ]
    }
   ],
   "source": [
    "#  test example classified correctly and uncorrectly\n",
    "correct=0\n",
    "uncorrect=0\n",
    "for r in range(0,len(testrows)):\n",
    "    if(testrows[r][9]==result[r]):\n",
    "        correct+=1\n",
    "    else:\n",
    "        uncorrect+=1\n",
    "print(\"correct = %d\"%correct)\n",
    "print(\"uncorrect = %d\"%uncorrect)\n",
    "            "
   ]
  },
  {
   "cell_type": "code",
   "execution_count": 15,
   "metadata": {},
   "outputs": [
    {
     "name": "stdout",
     "output_type": "stream",
     "text": [
      "80.0\n"
     ]
    }
   ],
   "source": [
    "f= open(\"result.txt\",\"w+\")\n",
    "\n",
    "## esitmated value of p(0) and p(1)\n",
    "\n",
    "f.write(\"P(0) = %f\\n\"%pof0)\n",
    "f.write(\"P(1) = %f\\n\"%pof1)\n",
    "\n",
    "#MEAN AND VARIANCE FOR CLASS 0\n",
    "f.write (\"\\n\\nMEAN AND VARIANCE FOR CLASS 0\\n\\n\")\n",
    "for i in range(0,9):\n",
    "    f.write (\"mean for attribute %d = %f\\n \"%(i,listmean0[i]))\n",
    "    f.write (\"variance for attribute %d = %f\\n \"%(i,varlist0[i]))\n",
    "    \n",
    "#MEAN AND VARIANCE FOR CLASS 1\n",
    "f.write (\"\\n\\nMEAN AND VARIANCE FOR CLASS 1\\n\\n\")\n",
    "for i in range(0,9):\n",
    "    f.write (\"mean for attribute %d = %f\\n \"%(i,listmean1[i]))\n",
    "    f.write (\"variance for attribute %d = %f\\n \"%(i,varlist1[i]))\n",
    "\n",
    "#PRIDICETD CLASS FOR ALL EXAPMLE\n",
    "f.write('\\n\\nPRIDICETD CLASS FOR ALL EXAPMLE\\n\\n')\n",
    "for i in range(0,len(result)):\n",
    "    f.write(\"FOR TEST EXAMPLE %d CLASS IS %d\\n\"%(i,result[i]))\n",
    "    \n",
    "#EXAPMLE PREDICTED CORRECTLY\n",
    "f.write(\"NUMBER OF CORRECT EXAPMLE PREDICTED = %d\\n\"%correct)\n",
    "\n",
    "#EXAPMLE PREDICTED CORRECTLY\n",
    "f.write(\"NUMBER OF UNCORRECT EXAPMLE PREDICTED = %d\\n\"%uncorrect)\n",
    "\n",
    "#PERCENTAGE ERROR ON TEST EXAMPLE\n",
    "Error=uncorrect/(correct+uncorrect)\n",
    "PerError=Error*100\n",
    "f.write(\"Percentage error = %d\\n\"%PerError)\n",
    "print((correct/(correct+uncorrect))*100)\n",
    "\n",
    "f.close() \n",
    "\n"
   ]
  },
  {
   "cell_type": "code",
   "execution_count": 16,
   "metadata": {},
   "outputs": [
    {
     "name": "stdout",
     "output_type": "stream",
     "text": [
      "118 82\n",
      "accuracy of Zero-r = 59\n"
     ]
    }
   ],
   "source": [
    "#For Zero-R\n",
    "\n",
    "i=4\n",
    "if (list0>list1):\n",
    "    i=0\n",
    "else:\n",
    "    i=1\n",
    "cc=0\n",
    "unc=0\n",
    "for r in range(0,len(testrows)):\n",
    "    if(testrows[r][9]==i):\n",
    "        cc+=1\n",
    "    else:\n",
    "        unc+=1\n",
    "print(cc,unc)\n",
    "accuracy=((cc)/(cc+unc))*100\n",
    "print(\"accuracy of Zero-r = %d\"%accuracy)"
   ]
  },
  {
   "cell_type": "code",
   "execution_count": null,
   "metadata": {},
   "outputs": [],
   "source": []
  },
  {
   "cell_type": "code",
   "execution_count": null,
   "metadata": {},
   "outputs": [],
   "source": []
  }
 ],
 "metadata": {
  "kernelspec": {
   "display_name": "Python 3",
   "language": "python",
   "name": "python3"
  },
  "language_info": {
   "codemirror_mode": {
    "name": "ipython",
    "version": 3
   },
   "file_extension": ".py",
   "mimetype": "text/x-python",
   "name": "python",
   "nbconvert_exporter": "python",
   "pygments_lexer": "ipython3",
   "version": "3.6.5"
  }
 },
 "nbformat": 4,
 "nbformat_minor": 2
}
