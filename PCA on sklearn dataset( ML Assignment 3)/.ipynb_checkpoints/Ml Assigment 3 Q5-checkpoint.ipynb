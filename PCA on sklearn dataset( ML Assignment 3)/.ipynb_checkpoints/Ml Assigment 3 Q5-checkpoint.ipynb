{
 "cells": [
  {
   "cell_type": "code",
   "execution_count": null,
   "metadata": {},
   "outputs": [
    {
     "name": "stderr",
     "output_type": "stream",
     "text": [
      "Downloading LFW metadata: https://ndownloader.figshare.com/files/5976012\n",
      "Downloading LFW metadata: https://ndownloader.figshare.com/files/5976009\n",
      "Downloading LFW metadata: https://ndownloader.figshare.com/files/5976006\n",
      "Downloading LFW data (~200MB): https://ndownloader.figshare.com/files/5976015\n"
     ]
    }
   ],
   "source": [
    "import numpy as np\n",
    "import matplotlib\n",
    "import matplotlib.pyplot as plt\n",
    "import pandas as pd\n",
    "from sklearn.datasets import fetch_lfw_people\n",
    "lfw_people = fetch_lfw_people(min_faces_per_person=70)\n",
    "n_samples, h, w = lfw_people.images.shape\n",
    "print(lfw_people.images.shape)\n",
    "npix = h*w\n",
    "fea = lfw_people.data\n",
    "def plt_face(x):\n",
    "    global h,w\n",
    "    plt.imshow(x.reshape((h, w)), cmap=plt.cm.gray)\n",
    "    plt.xticks([])\n",
    "plt.figure(figsize=(10,20))\n",
    "nplt = 4\n",
    "for i in range(nplt):\n",
    "    plt.subplot(1,nplt,i+1)\n",
    "    plt_face(fea[i])\n",
    "plt.show()"
   ]
  },
  {
   "cell_type": "code",
   "execution_count": null,
   "metadata": {},
   "outputs": [],
   "source": [
    "#Question 5 (a)\n",
    "plt_face(fea[3])\n",
    "plt.show()"
   ]
  },
  {
   "cell_type": "code",
   "execution_count": null,
   "metadata": {
    "scrolled": true
   },
   "outputs": [],
   "source": [
    "#Question 5 (b)\n",
    "y=np.mean(fea,axis=0)\n",
    "print(y.shape)\n",
    "plt_face(y)\n",
    "plt.show()"
   ]
  },
  {
   "cell_type": "code",
   "execution_count": null,
   "metadata": {},
   "outputs": [],
   "source": [
    "#Question 5 C\n",
    "import sklearn.decomposition as skd\n",
    "import numpy as np\n",
    "X=fea-y\n",
    "pca = skd.PCA(n_components = 5)\n",
    "skd.PCA.fit(pca,X)\n",
    "W1 = pca.components_\n",
    "W = W1.transpose()\n",
    "Z = pca.transform(X)\n",
    "print(Z[3,])"
   ]
  },
  {
   "cell_type": "code",
   "execution_count": null,
   "metadata": {},
   "outputs": [],
   "source": [
    "#Question 5 (d)\n",
    "# for components = 5\n",
    "XX=np.matmul(Z,W.transpose())\n",
    "XX+=y\n",
    "plt_face(XX[3])\n",
    "plt.show()\n"
   ]
  },
  {
   "cell_type": "code",
   "execution_count": null,
   "metadata": {},
   "outputs": [],
   "source": [
    "#Question 5 (d)\n",
    "# for components = 50\n",
    "import sklearn.decomposition as skd\n",
    "import numpy as np\n",
    "X=fea-y\n",
    "pca = skd.PCA(n_components = 50)\n",
    "skd.PCA.fit(pca,X)\n",
    "W1 = pca.components_\n",
    "W = W1.transpose()\n",
    "Z = pca.transform(X)\n",
    "print(W1.shape)\n",
    "print(Z.shape)\n",
    "\n",
    "XX=np.matmul(Z,W.transpose())\n",
    "XX+=y\n",
    "plt_face(XX[3])\n",
    "plt.show()\n"
   ]
  }
 ],
 "metadata": {
  "kernelspec": {
   "display_name": "Python 3",
   "language": "python",
   "name": "python3"
  },
  "language_info": {
   "codemirror_mode": {
    "name": "ipython",
    "version": 3
   },
   "file_extension": ".py",
   "mimetype": "text/x-python",
   "name": "python",
   "nbconvert_exporter": "python",
   "pygments_lexer": "ipython3",
   "version": "3.6.5"
  }
 },
 "nbformat": 4,
 "nbformat_minor": 2
}
