{
 "cells": [
  {
   "cell_type": "code",
   "execution_count": 27,
   "metadata": {},
   "outputs": [
    {
     "name": "stdout",
     "output_type": "stream",
     "text": [
      "1500\n"
     ]
    }
   ],
   "source": [
    "# To read training set\n",
    "\n",
    "import csv\n",
    "import re\n",
    "import pandas as pd\n",
    "from scipy import sparse\n",
    "import numpy as np\n",
    "\n",
    "        \n",
    "trainrow=[]        \n",
    "file = open('reviewstrain.txt', 'r')  \n",
    "lines=file.readlines()\n",
    "\n",
    "for line in lines:\n",
    "    line=line.strip(('\\t'))\n",
    "    line=line.strip(('\\n'))\n",
    "    x,y=line.split(\" \",1)\n",
    "    trainrow.append((x,re.sub(\"\\t|\\n\",\"\",y)))\n",
    " #   print(x)\n",
    "#    print(y)\n",
    "\n",
    "#print(row)\n",
    "print(len(trainrow))\n",
    "Num_of_example=len(trainrow)"
   ]
  },
  {
   "cell_type": "code",
   "execution_count": 30,
   "metadata": {},
   "outputs": [
    {
     "name": "stdout",
     "output_type": "stream",
     "text": [
      "500\n"
     ]
    }
   ],
   "source": [
    "# To read test set\n",
    "\n",
    "import csv\n",
    "import re\n",
    "import pandas as pd\n",
    "from scipy import sparse\n",
    "import numpy as np\n",
    "\n",
    "  \n",
    "testrow=[]        \n",
    "file = open('reviewstest.txt', 'r')  \n",
    "lines=file.readlines()\n",
    "\n",
    "for line in lines:\n",
    "    line=line.strip(('\\t'))\n",
    "    line=line.strip(('\\n'))\n",
    "    x,y=line.split(\" \",1)\n",
    "    testrow.append((x,re.sub(\"\\t|\\n\",\"\",y)))\n",
    " #   print(x)\n",
    "#    print(y)\n",
    "\n",
    "#print(row)\n",
    "print(len(testrow))\n",
    "Num_of_example=len(testrow)"
   ]
  },
  {
   "cell_type": "code",
   "execution_count": 54,
   "metadata": {},
   "outputs": [
    {
     "name": "stdout",
     "output_type": "stream",
     "text": [
      "[1, 0, 1, 1, 0, 0, 1, 1, 0, 1, 0, 1, 1, 1, 1, 1, 1, 1, 0, 1, 1, 1, 1, 1, 1, 1, 1, 1, 1, 1, 0, 1, 0, 1, 1, 1, 0, 1, 0, 1, 1, 1, 1, 1, 1, 0, 1, 0, 0, 0, 0, 0, 1, 0, 1, 0, 1, 0, 1, 0, 1, 1, 1, 1, 1, 1, 1, 1, 0, 1, 1, 0, 1, 1, 0, 1, 1, 1, 1, 1, 1, 0, 1, 1, 1, 1, 1, 1, 1, 0, 1, 1, 1, 1, 1, 0, 1, 0, 1, 1, 1, 1, 1, 0, 1, 1, 1, 0, 1, 1, 0, 0, 1, 0, 0, 1, 1, 1, 0, 0, 0, 1, 1, 0, 1, 0, 1, 1, 1, 0, 0, 0, 0, 1, 1, 1, 1, 1, 1, 1, 1, 1, 1, 0, 0, 1, 1, 1, 1, 0, 1, 1, 1, 1, 1, 1, 1, 0, 0, 1, 1, 1, 1, 1, 0, 0, 1, 0, 1, 0, 1, 0, 1, 1, 1, 1, 1, 1, 1, 0, 0, 1, 1, 1, 1, 1, 1, 1, 1, 1, 1, 1, 0, 1, 0, 0, 1, 1, 1, 1, 1, 0, 1, 0, 1, 0, 1, 1, 1, 0, 1, 0, 1, 1, 0, 1, 1, 0, 0, 0, 1, 1, 0, 1, 1, 1, 0, 0, 1, 1, 1, 0, 1, 1, 1, 0, 1, 1, 1, 1, 1, 1, 1, 0, 1, 1, 0, 0, 1, 1, 0, 1, 0, 0, 0, 1, 0, 1, 0, 0, 1, 1, 1, 1, 1, 1, 1, 0, 0, 1, 1, 1, 0, 0, 1, 1, 1, 0, 1, 1, 1, 1, 1, 1, 1, 0, 1, 1, 1, 1, 1, 1, 1, 1, 1, 0, 1, 0, 1, 0, 1, 1, 1, 1, 1, 0, 0, 0, 0, 1, 0, 1, 1, 1, 1, 1, 0, 1, 1, 0, 1, 1, 1, 1, 0, 0, 0, 1, 1, 0, 1, 1, 1, 1, 0, 0, 1, 1, 1, 1, 0, 1, 1, 1, 0, 1, 0, 0, 1, 1, 1, 1, 0, 1, 0, 0, 0, 1, 1, 1, 0, 1, 1, 1, 0, 1, 0, 0, 1, 1, 1, 0, 1, 1, 0, 1, 1, 0, 0, 1, 0, 1, 1, 0, 1, 1, 1, 1, 1, 1, 1, 1, 0, 1, 1, 1, 0, 1, 1, 1, 1, 1, 0, 1, 1, 1, 1, 1, 1, 1, 1, 1, 1, 1, 0, 1, 1, 0, 1, 1, 0, 1, 0, 1, 1, 1, 0, 0, 0, 0, 1, 1, 0, 0, 0, 0, 1, 1, 1, 0, 1, 0, 0, 1, 1, 0, 0, 0, 0, 0, 1, 0, 1, 1, 0, 0, 0, 0, 0, 1, 1, 1, 0, 1, 0, 0, 1, 1, 1, 1, 1, 1, 1, 1, 0, 1, 1, 1, 1, 0, 1, 1, 1, 1, 1, 1, 1, 1, 1, 0, 1, 1, 1, 1, 1, 1, 1, 1, 1, 0]\n",
      "500\n"
     ]
    }
   ],
   "source": [
    "# for k=1-------------------------------------\n",
    "def takeSecond(elem):\n",
    "    return elem[1]\n",
    "\n",
    "k=1\n",
    "prediction=[]\n",
    "for i in range(0,len(testrow)):\n",
    "    distancelist=[]\n",
    "    temp1=[]\n",
    "    y=testrow[i]\n",
    "    for i2 in (y[1]).split(\" \"):\n",
    "        temp1.append(i2) # All tokens for a comment\n",
    "    temp1=list(set(temp1)) # unique tokens for a comment\n",
    "    for i3 in range(0,len(trainrow)):\n",
    "        temp2=[]\n",
    "        y2=trainrow[i3]\n",
    "        for i4 in (y2[1]).split(\" \"):\n",
    "            temp2.append(i4)# All tokens for a comment\n",
    "        temp2=list(set(temp2))    # unique tokens for a comment\n",
    "        distance=0 # difference between two comments\n",
    "        for val in temp1 :\n",
    "            if(val in temp2):\n",
    "                distance+=1\n",
    "        if(distance==0):\n",
    "            distance=1000000000\n",
    "        else:\n",
    "            distance=(1/distance) # distance according to the formula\n",
    "        distancelist.append((int(y2[0]),distance))    #labels with distance \n",
    "    #sorted(distancelist,key=distancelist[1])\n",
    "    distancelist.sort(key=takeSecond) # sorted according to distance\n",
    "    #print(distancelist)\n",
    "    class0=0\n",
    "    class1=0\n",
    "    #print((distancelist[0])[1])\n",
    "    mindis=(distancelist[0][1])\n",
    "   # print(type((distancelist[0])[0]))\n",
    "   # print(type((distancelist[0])[1]))\n",
    "    if(((distancelist[0])[0])==1):\n",
    "        class1+=1\n",
    "    else:\n",
    "        class0+=1\n",
    "    \n",
    "    for i5 in range(1,len(distancelist)):\n",
    "        if(mindis==(distancelist[i5])[1]):\n",
    "            if((distancelist[i5])[0]==1):\n",
    "                class1+=1\n",
    "            else:\n",
    "                class0+=1\n",
    "        else :\n",
    "            break\n",
    "    if(class1>=class0):\n",
    "        prediction.append(1)\n",
    "    else:\n",
    "        prediction.append(0)\n",
    "        \n",
    "print(prediction)\n",
    "print(len(prediction))"
   ]
  },
  {
   "cell_type": "code",
   "execution_count": 55,
   "metadata": {},
   "outputs": [
    {
     "name": "stdout",
     "output_type": "stream",
     "text": [
      "('1', 'it leaves little doubt that kidman has become one of our best actors .')\n"
     ]
    }
   ],
   "source": [
    "print(testrow[17])"
   ]
  },
  {
   "cell_type": "code",
   "execution_count": 56,
   "metadata": {},
   "outputs": [
    {
     "name": "stdout",
     "output_type": "stream",
     "text": [
      "1\n",
      "TP=  209\n",
      "FP=  134\n",
      "TN=  93\n",
      "FN=  64\n"
     ]
    }
   ],
   "source": [
    "# output for k=1\n",
    "\n",
    "print(prediction[17])# answer to A.1\n",
    "FP=0\n",
    "FN=0\n",
    "TP=0\n",
    "TN=0\n",
    "for i in range(0,500):\n",
    "    if(int((testrow[i])[0])==1 and prediction[i]==1):\n",
    "        TP+=1\n",
    "    elif(int((testrow[i])[0])==1 and prediction[i]==0):\n",
    "        FN+=1\n",
    "    elif(int((testrow[i])[0])==0 and prediction[i]==0):\n",
    "        TN+=1\n",
    "    elif(int((testrow[i])[0])==0 and prediction[i]==1):\n",
    "        FP+=1\n",
    "print(\"TP= \",TP)\n",
    "print(\"FP= \",FP)\n",
    "print(\"TN= \",TN)\n",
    "print(\"FN= \",FN)"
   ]
  },
  {
   "cell_type": "code",
   "execution_count": 80,
   "metadata": {
    "scrolled": true
   },
   "outputs": [],
   "source": [
    "# FOR K EQUALS 5\n",
    "KKK=5\n",
    "def takeSecond(elem):\n",
    "    return elem[1]\n",
    "prediction5=[]\n",
    "for i in range(0,len(testrow)):\n",
    "    distancelist=[]\n",
    "    temp1=[]\n",
    "    y=testrow[i]\n",
    "    for i2 in (y[1]).split(\" \"):\n",
    "        temp1.append(i2) # All tokens for a comment\n",
    "    temp1=list(set(temp1)) # unique tokens for a comment\n",
    "    for i3 in range(0,len(trainrow)):\n",
    "        temp2=[]\n",
    "        y2=trainrow[i3]\n",
    "        for i4 in (y2[1]).split(\" \"):\n",
    "            temp2.append(i4)# All tokens for a comment\n",
    "        temp2=list(set(temp2))    # unique tokens for a comment\n",
    "        distance=0 # difference between two comments\n",
    "        for val in temp1 :\n",
    "            if(val in temp2):\n",
    "                distance+=1\n",
    "        if(distance==0):\n",
    "            distance=1000000000\n",
    "        else:\n",
    "            distance=(1/distance) # distance according to the formula\n",
    "        distancelist.append((int(y2[0]),distance))    #labels with distance \n",
    "    #sorted(distancelist,key=distancelist[1])\n",
    "    distancelist.sort(key=takeSecond) # sorted according to distance\n",
    "    #print(distancelist)\n",
    "    class0=0\n",
    "    class1=0\n",
    "    #print((distancelist[0])[1])\n",
    "    mindis=(distancelist[0][1])\n",
    "   # print(type((distancelist[0])[0]))\n",
    "   # print(type((distancelist[0])[1]))\n",
    "    if(((distancelist[0])[0])==1):\n",
    "        class1+=1\n",
    "    else:\n",
    "        class0+=1\n",
    "    # CODE FOR ADDING THE PREDICTION\n",
    "    \n",
    "    k=2\n",
    "    #for i23 in range(1,25)\n",
    "  #  print(i)\n",
    "   # print(distancelist[0:50])\n",
    "    for i5 in range(1,len(distancelist)):\n",
    "      #  print(\"new min\",mindis,'----',(distancelist[i5])[1])\n",
    "        if k<=KKK or mindis==(distancelist[i5])[1]:\n",
    "         #   print(\"k=\",k)\n",
    "          #  print(mindis,\"-----\",(distancelist[i5])[1])\n",
    "            if((distancelist[i5])[0]==1):\n",
    "                class1+=1\n",
    "                mindis=(distancelist[i5])[1]\n",
    "                k=k+1\n",
    "            else:\n",
    "                class0+=1\n",
    "                mindis=(distancelist[i5])[1]\n",
    "                k=k+1\n",
    "        else :\n",
    "            break\n",
    "    if(class1>=class0):\n",
    "        prediction5.append(1)\n",
    "    else:\n",
    "        prediction5.append(0)\n",
    "        \n",
    "#print(prediction5)\n",
    "#print(len(prediction5))\n"
   ]
  },
  {
   "cell_type": "code",
   "execution_count": 81,
   "metadata": {},
   "outputs": [
    {
     "name": "stdout",
     "output_type": "stream",
     "text": [
      "1\n",
      "TP=  212\n",
      "FP=  136\n",
      "TN=  91\n",
      "FN=  61\n"
     ]
    }
   ],
   "source": [
    "print(prediction5[17])# answer to A.1\n",
    "FP5=0\n",
    "FN5=0\n",
    "TP5=0\n",
    "TN5=0\n",
    "for i in range(0,500):\n",
    "    if(int((testrow[i])[0])==1 and prediction5[i]==1):\n",
    "        TP5+=1\n",
    "    elif(int((testrow[i])[0])==1 and prediction5[i]==0):\n",
    "        FN5+=1\n",
    "    elif(int((testrow[i])[0])==0 and prediction5[i]==0):\n",
    "        TN5+=1\n",
    "    elif(int((testrow[i])[0])==0 and prediction5[i]==1):\n",
    "        FP5+=1\n",
    "print(\"TP= \",TP5)\n",
    "print(\"FP= \",FP5)\n",
    "print(\"TN= \",TN5)\n",
    "print(\"FN= \",FN5)"
   ]
  },
  {
   "cell_type": "code",
   "execution_count": 78,
   "metadata": {},
   "outputs": [
    {
     "name": "stdout",
     "output_type": "stream",
     "text": [
      "227 273\n",
      "TP=  273\n",
      "FP=  227\n",
      "TN=  0\n",
      "FN=  0\n"
     ]
    }
   ],
   "source": [
    "# for ZERo-R classifier\n",
    "\n",
    "c0=0\n",
    "c1=0\n",
    "predictzr=-1\n",
    "for tem in range(0, len(testrow)):\n",
    "    if(int((testrow[tem])[0])==0):\n",
    "        c0+=1\n",
    "    else:\n",
    "        c1+=1\n",
    "    \n",
    "print(c0,c1)\n",
    "\n",
    "if(c0>c1):\n",
    "    predictzr=0\n",
    "else:\n",
    "    predictzr=1\n",
    "\n",
    "FPzr=0\n",
    "FNzr=0\n",
    "TPzr=0\n",
    "TNzr=0\n",
    "for i in range(0,500):\n",
    "    if(int((testrow[i])[0])==1 and predictzr==1):\n",
    "        TPzr+=1\n",
    "    elif(int((testrow[i])[0])==1 and predictzr==0):\n",
    "        FNzr+=1\n",
    "    elif(int((testrow[i])[0])==0 and predictzr==0):\n",
    "        TNzr+=1\n",
    "    elif(int((testrow[i])[0])==0 and predictzr==1):\n",
    "        FPzr+=1\n",
    "print(\"TP= \",TPzr)\n",
    "print(\"FP= \",FPzr)\n",
    "print(\"TN= \",TNzr)\n",
    "print(\"FN= \",FNzr)"
   ]
  },
  {
   "cell_type": "code",
   "execution_count": null,
   "metadata": {},
   "outputs": [],
   "source": []
  }
 ],
 "metadata": {
  "kernelspec": {
   "display_name": "Python 3",
   "language": "python",
   "name": "python3"
  },
  "language_info": {
   "codemirror_mode": {
    "name": "ipython",
    "version": 3
   },
   "file_extension": ".py",
   "mimetype": "text/x-python",
   "name": "python",
   "nbconvert_exporter": "python",
   "pygments_lexer": "ipython3",
   "version": "3.6.5"
  }
 },
 "nbformat": 4,
 "nbformat_minor": 2
}
