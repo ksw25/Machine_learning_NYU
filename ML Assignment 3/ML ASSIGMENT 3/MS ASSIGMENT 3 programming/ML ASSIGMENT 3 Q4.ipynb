{
 "cells": [
  {
   "cell_type": "code",
   "execution_count": 29,
   "metadata": {},
   "outputs": [],
   "source": [
    "\n",
    "import numpy as np\n",
    "from numpy import linalg as LA"
   ]
  },
  {
   "cell_type": "code",
   "execution_count": 30,
   "metadata": {},
   "outputs": [],
   "source": [
    "B=np.array([[-0.75,-1.5,0.5],[3.25,2.5,0.5],[1.25,-2.5,-3.5],[-3.75,1.5,2.5]])\n",
    "#b=[[-0.75,-1.5,.5],[3.25,2.5,.5],[1.25,-2.5,-3.5],[-3.75,1.5,2.5]]"
   ]
  },
  {
   "cell_type": "code",
   "execution_count": 31,
   "metadata": {},
   "outputs": [
    {
     "name": "stdout",
     "output_type": "stream",
     "text": [
      "[[-0.75 -1.5   0.5 ]\n",
      " [ 3.25  2.5   0.5 ]\n",
      " [ 1.25 -2.5  -3.5 ]\n",
      " [-3.75  1.5   2.5 ]]\n",
      "[[ 8.91666667  0.16666667 -4.16666667]\n",
      " [ 0.16666667  5.66666667  4.33333333]\n",
      " [-4.16666667  4.33333333  6.33333333]]\n",
      "[ 0.49703343 12.97881887  7.44081437]\n"
     ]
    }
   ],
   "source": [
    "# Question 3 (c)\n",
    "print(B)\n",
    "c=np.cov(B,rowvar=False)\n",
    "print(c)\n",
    "v,d = LA.eig(c)\n",
    "print(v)\n"
   ]
  },
  {
   "cell_type": "code",
   "execution_count": 32,
   "metadata": {},
   "outputs": [
    {
     "name": "stdout",
     "output_type": "stream",
     "text": [
      "[[-0.65675377  0.3733234   0.65521304]\n",
      " [ 0.66122187  0.70283233  0.26232109]\n",
      " [ 0.36257431 -0.60552156  0.70843738]]\n"
     ]
    }
   ],
   "source": [
    "# Question 3 (d)\n",
    "import sklearn.decomposition as skd\n",
    "import numpy as np\n",
    "X=B\n",
    "pca = skd.PCA(n_components = 3)\n",
    "skd.PCA.fit(pca,X)\n",
    "#W1 = pca.components_\n",
    "#W = W1.transpose()\n",
    "Z = pca.transform(X)\n",
    "print(pca.components_)"
   ]
  },
  {
   "cell_type": "code",
   "execution_count": 33,
   "metadata": {},
   "outputs": [
    {
     "name": "stdout",
     "output_type": "stream",
     "text": [
      "[[ 0.26018674 -1.41900435  0.99057029]\n",
      " [-0.87353472  4.03721245  0.01878129]\n",
      " [-4.04749635 -1.8486773  -0.51250906]\n",
      " [ 4.66084433 -0.7695308  -0.49684253]]\n"
     ]
    }
   ],
   "source": [
    "print(Z)"
   ]
  }
 ],
 "metadata": {
  "kernelspec": {
   "display_name": "Python 3",
   "language": "python",
   "name": "python3"
  },
  "language_info": {
   "codemirror_mode": {
    "name": "ipython",
    "version": 3
   },
   "file_extension": ".py",
   "mimetype": "text/x-python",
   "name": "python",
   "nbconvert_exporter": "python",
   "pygments_lexer": "ipython3",
   "version": "3.6.5"
  }
 },
 "nbformat": 4,
 "nbformat_minor": 2
}
